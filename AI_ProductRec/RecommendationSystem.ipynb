{
 "cells": [
  {
   "cell_type": "code",
   "execution_count": 1,
   "metadata": {},
   "outputs": [],
   "source": [
    "import pandas as pd\n",
    "from sklearn.metrics.pairwise import cosine_similarity\n",
    "from sklearn.preprocessing import LabelEncoder"
   ]
  },
  {
   "cell_type": "code",
   "execution_count": 2,
   "metadata": {},
   "outputs": [],
   "source": [
    "purchase_history = pd.read_csv('grocery_sells.csv')\n",
    "product_info = pd.read_csv('Online_Retail_Categorized.csv')"
   ]
  },
  {
   "cell_type": "code",
   "execution_count": 3,
   "metadata": {},
   "outputs": [],
   "source": [
    "merged_data = pd.merge(purchase_history, product_info, left_on=['Category', 'Sub Category'], right_on=['Category', 'Sub Category'], how='inner')"
   ]
  },
  {
   "cell_type": "code",
   "execution_count": 14,
   "metadata": {},
   "outputs": [],
   "source": [
    "user_product_matrix = pd.pivot_table(merged_data, values='Quantity', index='Customer Name', columns=['Category', 'Sub Category'], fill_value=0)\n"
   ]
  },
  {
   "cell_type": "code",
   "execution_count": 5,
   "metadata": {},
   "outputs": [],
   "source": [
    "user_product_matrix.columns = [' '.join(map(str, col)).strip() for col in user_product_matrix.columns.values]\n"
   ]
  },
  {
   "cell_type": "code",
   "execution_count": 6,
   "metadata": {},
   "outputs": [],
   "source": [
    "le = LabelEncoder()\n",
    "user_product_matrix.columns = le.fit_transform(user_product_matrix.columns)"
   ]
  },
  {
   "cell_type": "code",
   "execution_count": 7,
   "metadata": {},
   "outputs": [],
   "source": [
    "user_similarity = cosine_similarity(user_product_matrix)"
   ]
  },
  {
   "cell_type": "code",
   "execution_count": 8,
   "metadata": {},
   "outputs": [],
   "source": [
    "def get_recommendations(customer_name, num_recommendations=5):\n",
    "\n",
    "    user_index = user_product_matrix.index.get_loc(customer_name)\n",
    "    sim_scores = list(enumerate(user_similarity[user_index]))\n",
    "    sim_scores = sorted(sim_scores, key=lambda x: x[1], reverse=True)\n",
    "    sim_scores = sim_scores[1:num_recommendations + 1]\n",
    "    product_indices = [i[0] for i in sim_scores]\n",
    "\n",
    "    # Ensure that the indices are within the range of labels encountered during fitting\n",
    "    if max(product_indices) >= len(le.classes_):\n",
    "        print(\"Some indices are out of range. Adjusting indices.\")\n",
    "        product_indices = [idx % len(le.classes_) for idx in product_indices]\n",
    "\n",
    "    # Use the same LabelEncoder for inverse transforming\n",
    "    recommended_products = le.inverse_transform(product_indices)\n",
    "    return recommended_products\n"
   ]
  },
  {
   "cell_type": "code",
   "execution_count": 9,
   "metadata": {},
   "outputs": [
    {
     "name": "stdout",
     "output_type": "stream",
     "text": [
      "Some indices are out of range. Adjusting indices.\n",
      "Recommendations for Customer Alan: ['Eggs, Meat & Fish Chicken' 'Bakery Biscuits' 'Bakery Breads & Buns'\n",
      " 'Bakery Cakes' 'Beverages Soft Drinks']\n",
      "Some indices are out of range. Adjusting indices.\n",
      "Recommendations for Customer Sharon: ['Eggs, Meat & Fish Chicken' 'Bakery Biscuits' 'Bakery Breads & Buns'\n",
      " 'Bakery Cakes' 'Beverages Soft Drinks']\n",
      "Some indices are out of range. Adjusting indices.\n",
      "Recommendations for Customer Sharon: ['Eggs, Meat & Fish Chicken' 'Bakery Biscuits' 'Bakery Breads & Buns'\n",
      " 'Bakery Cakes' 'Beverages Soft Drinks']\n",
      "Some indices are out of range. Adjusting indices.\n",
      "Recommendations for Customer Esther: ['Eggs, Meat & Fish Chicken' 'Bakery Biscuits' 'Bakery Breads & Buns'\n",
      " 'Bakery Cakes' 'Beverages Soft Drinks']\n",
      "Recommendations for Customer Peer: ['Bakery Breads & Buns' 'Bakery Cakes' 'Beverages Soft Drinks'\n",
      " 'Eggs, Meat & Fish Chicken' 'Eggs, Meat & Fish Eggs']\n",
      "Exiting recommendation system.\n"
     ]
    }
   ],
   "source": [
    "while True:\n",
    "    # Example: Get recommendations for a specific user (replace 'customer_name' with an actual customer name)\n",
    "    customer_name = input(\"Enter customer name (type 'quit' or 'exit' to stop): \")\n",
    "    \n",
    "    # Check if the user wants to quit\n",
    "    if customer_name.lower() in ['quit', 'exit']:\n",
    "        print(\"Exiting recommendation system.\")\n",
    "        break\n",
    "    \n",
    "    recommendations = get_recommendations(customer_name)\n",
    "    \n",
    "    if len(recommendations) > 0:\n",
    "        print(f\"Recommendations for Customer {customer_name}:\", recommendations)\n",
    "    else:\n",
    "        print(f\"No recommendations found for Customer {customer_name}.\")\n"
   ]
  },
  {
   "cell_type": "code",
   "execution_count": null,
   "metadata": {},
   "outputs": [],
   "source": []
  }
 ],
 "metadata": {
  "kernelspec": {
   "display_name": "Python 3",
   "language": "python",
   "name": "python3"
  },
  "language_info": {
   "codemirror_mode": {
    "name": "ipython",
    "version": 3
   },
   "file_extension": ".py",
   "mimetype": "text/x-python",
   "name": "python",
   "nbconvert_exporter": "python",
   "pygments_lexer": "ipython3",
   "version": "3.10.11"
  }
 },
 "nbformat": 4,
 "nbformat_minor": 2
}
